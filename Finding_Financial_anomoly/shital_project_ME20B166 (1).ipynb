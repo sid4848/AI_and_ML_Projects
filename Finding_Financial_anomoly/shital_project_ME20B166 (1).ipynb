{
  "nbformat": 4,
  "nbformat_minor": 0,
  "metadata": {
    "colab": {
      "provenance": []
    },
    "kernelspec": {
      "name": "python3",
      "display_name": "Python 3"
    },
    "language_info": {
      "name": "python"
    }
  },
  "cells": [
    {
      "cell_type": "code",
      "execution_count": null,
      "metadata": {
        "colab": {
          "base_uri": "https://localhost:8080/"
        },
        "id": "kI35wxy7rjTi",
        "outputId": "c166e66c-9437-4ca2-f258-ee2376faca35"
      },
      "outputs": [
        {
          "output_type": "stream",
          "name": "stderr",
          "text": [
            "/usr/local/lib/python3.10/dist-packages/sklearn/base.py:439: UserWarning: X does not have valid feature names, but IsolationForest was fitted with feature names\n",
            "  warnings.warn(\n"
          ]
        },
        {
          "output_type": "stream",
          "name": "stdout",
          "text": [
            "               Timestamp TransactionID AccountID    Amount   Merchant  \\\n",
            "3       01-01-2023 08:03       TXN1438      ACC6     87.87  MerchantE   \n",
            "4       01-01-2023 08:04       TXN1338      ACC6    716.56  MerchantI   \n",
            "7       01-01-2023 08:07        TXN841      ACC7   1336.36  MerchantI   \n",
            "15      01-01-2023 08:15         TXN65      ACC9  98688.82  MerchantH   \n",
            "16      01-01-2023 08:16        TXN648      ACC8   1417.84  MerchantC   \n",
            "...                  ...           ...       ...       ...        ...   \n",
            "216856  31-05-2023 22:16       TXN1938     ACC10  98388.15  MerchantI   \n",
            "216904  31-05-2023 23:04       TXN1075      ACC9  98376.93  MerchantJ   \n",
            "216905  31-05-2023 23:05       TXN1099      ACC9   2464.21  MerchantE   \n",
            "216932  31-05-2023 23:32        TXN582      ACC5  97969.69  MerchantA   \n",
            "216934  31-05-2023 23:34       TXN1273     ACC11  99077.99  MerchantG   \n",
            "\n",
            "       TransactionType       Location  Anomaly  \n",
            "3             Purchase         London       -1  \n",
            "4             Purchase    Los Angeles       -1  \n",
            "7           Withdrawal  San Francisco       -1  \n",
            "15            Purchase         London       -1  \n",
            "16            Purchase    Los Angeles       -1  \n",
            "...                ...            ...      ...  \n",
            "216856        Transfer       New York       -1  \n",
            "216904        Purchase          Tokyo       -1  \n",
            "216905      Withdrawal          Tokyo       -1  \n",
            "216932        Purchase         London       -1  \n",
            "216934        Transfer       New York       -1  \n",
            "\n",
            "[10870 rows x 8 columns]\n"
          ]
        }
      ],
      "source": [
        "# Import necessary libraries\n",
        "import pandas as pd\n",
        "from sklearn.ensemble import IsolationForest\n",
        "from sklearn.impute import SimpleImputer\n",
        "\n",
        "# Load the dataset\n",
        "df = pd.read_csv('financial_anomaly_data.csv')\n",
        "\n",
        "# Handle missing values (replace NaN with the mean for simplicity)\n",
        "imputer = SimpleImputer(strategy='mean')\n",
        "df['Amount'] = imputer.fit_transform(df[['Amount']])\n",
        "\n",
        "# Select relevant features for anomaly detection\n",
        "features = ['Amount']\n",
        "\n",
        "# Initialize and fit the Isolation Forest model\n",
        "model = IsolationForest(contamination=0.05)  # Adjust contamination based on your dataset\n",
        "model.fit(df[features])\n",
        "\n",
        "# Predict anomalies (fraudulent activities)\n",
        "df['Anomaly'] = model.predict(df[features])\n",
        "\n",
        "# Display flagged anomalies\n",
        "fraudulent_transactions = df[df['Anomaly'] == -1]\n",
        "print(fraudulent_transactions)\n"
      ]
    },
    {
      "cell_type": "markdown",
      "source": [
        "**Why this approach and evaluation over other methods**:\n",
        "I chose the Isolation Forest algorithm for its effectiveness in detecting anomalies in high-dimensional datasets, and it doesn't rely on assumptions about the distribution of normal data. Other methods evaluated might include One-Class SVM, Local Outlier Factor, or clustering-based approaches."
      ],
      "metadata": {
        "id": "VDcO4zCir5N3"
      }
    },
    {
      "cell_type": "markdown",
      "source": [
        "**Features and Feature Engineering:**\n",
        "Features considered may include 'Amount,' 'Transaction Type,' and potentially 'Merchant.' Feature engineering can involve scaling numerical features, encoding categorical features, or creating new features based on domain knowledge"
      ],
      "metadata": {
        "id": "cKRY8qS7sD1a"
      }
    },
    {
      "cell_type": "code",
      "source": [
        "# Example of encoding categorical features with corrected column names\n",
        "categorical_columns = ['TransactionType', 'Merchant']\n",
        "\n",
        "# Check if the specified categorical columns exist in the dataset\n",
        "for col in categorical_columns:\n",
        "    if col.lower() not in df.columns.str.lower():\n",
        "        print(f\"Column '{col}' not found in the dataset.\")\n",
        "\n",
        "# Assuming the categorical columns are present, proceed with encoding\n",
        "df_encoded = pd.get_dummies(df, columns=categorical_columns)\n"
      ],
      "metadata": {
        "id": "yEMPkhtfsDdN"
      },
      "execution_count": null,
      "outputs": []
    },
    {
      "cell_type": "markdown",
      "source": [
        "## **Predicting Spend for All Transaction Types in June:**"
      ],
      "metadata": {
        "id": "vP65CiMysMEK"
      }
    },
    {
      "cell_type": "code",
      "source": [
        "# Correct the column name for timestamp\n",
        "df['timestamp'] = pd.to_datetime(df['Timestamp'])  # Change 'Timestamp' to 'timestamp'\n",
        "\n",
        "# Assuming 'timestamp' is in datetime format\n",
        "june_transactions = df[(df['timestamp'].dt.month == 6)]\n",
        "monthly_spend = june_transactions.groupby('TransactionType')['Amount'].sum()\n",
        "print(monthly_spend)\n"
      ],
      "metadata": {
        "colab": {
          "base_uri": "https://localhost:8080/"
        },
        "id": "j49ExycUr-w0",
        "outputId": "cb02f793-299e-405e-abd5-a3f074724000"
      },
      "execution_count": null,
      "outputs": [
        {
          "output_type": "stream",
          "name": "stdout",
          "text": [
            "TransactionType\n",
            "Purchase      1.179190e+08\n",
            "Transfer      1.207762e+08\n",
            "Withdrawal    1.188524e+08\n",
            "Name: Amount, dtype: float64\n"
          ]
        }
      ]
    },
    {
      "cell_type": "markdown",
      "source": [
        "##**Testing Model Effectiveness**##"
      ],
      "metadata": {
        "id": "xzR0uZeHsZrZ"
      }
    },
    {
      "cell_type": "code",
      "source": [
        "from sklearn.model_selection import train_test_split\n",
        "from sklearn.metrics import classification_report\n",
        "\n",
        "# Assuming 'Anomaly' is the column representing whether a transaction is fraudulent\n",
        "X_train, X_test, y_train, y_test = train_test_split(df[features], df['Anomaly'], test_size=0.2, random_state=42)\n",
        "\n",
        "model.fit(X_train)\n",
        "predictions = model.predict(X_test)\n",
        "\n",
        "print(classification_report(y_test, predictions))\n"
      ],
      "metadata": {
        "colab": {
          "base_uri": "https://localhost:8080/"
        },
        "id": "REySevtXsaFW",
        "outputId": "08dfd9b4-9266-4bc3-bbed-5f79e25fbdce"
      },
      "execution_count": null,
      "outputs": [
        {
          "output_type": "stream",
          "name": "stderr",
          "text": [
            "/usr/local/lib/python3.10/dist-packages/sklearn/base.py:439: UserWarning: X does not have valid feature names, but IsolationForest was fitted with feature names\n",
            "  warnings.warn(\n"
          ]
        },
        {
          "output_type": "stream",
          "name": "stdout",
          "text": [
            "              precision    recall  f1-score   support\n",
            "\n",
            "          -1       0.95      0.95      0.95      2141\n",
            "           1       1.00      1.00      1.00     41348\n",
            "\n",
            "    accuracy                           0.99     43489\n",
            "   macro avg       0.97      0.97      0.97     43489\n",
            "weighted avg       0.99      0.99      0.99     43489\n",
            "\n"
          ]
        }
      ]
    }
  ]
}